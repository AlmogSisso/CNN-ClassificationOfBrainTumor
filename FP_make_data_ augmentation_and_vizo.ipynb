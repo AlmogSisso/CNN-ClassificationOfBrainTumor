{
 "cells": [
  {
   "cell_type": "markdown",
   "id": "07544258-2c14-4d90-b033-c69c57d4bac0",
   "metadata": {},
   "source": [
    "# Brain讲 分类 Classification with Transfer learning\n",
    "\n"
   ]
  },
  {
   "cell_type": "code",
   "execution_count": 40,
   "id": "0d379f40-9b5e-403a-895b-6bed40822113",
   "metadata": {},
   "outputs": [],
   "source": [
    "import os\n",
    "import cv2\n",
    "import glob\n",
    "import random\n",
    "import imageio\n",
    "import numpy as np\n",
    "import pandas as pd\n",
    "from PIL import Image\n",
    "import seaborn as sns\n",
    "import skimage.measure   \n",
    "import tensorflow as tf\n",
    "from skimage import data\n",
    "import albumentations as A\n",
    "import scipy.ndimage as ndi\n",
    "from tqdm.notebook import tqdm\n",
    "import matplotlib.pyplot as plt\n",
    "import matplotlib.image as mpimg\n",
    "from keras.models import Sequential\n",
    "from skimage.morphology import disk\n",
    "from skimage.util import img_as_ubyte\n",
    "from skimage.filters.rank import entropy\n",
    "from tensorflow.keras import regularizers\n",
    "from skimage.measure.entropy import shannon_entropy\n",
    "from sklearn.model_selection import train_test_split\n",
    "from tensorflow.keras.optimizers import Adam , Adamax\n",
    "from keras.preprocessing.image import ImageDataGenerator\n",
    "from sklearn.metrics import confusion_matrix , classification_report\n",
    "from keras.layers import Conv2D, MaxPooling2D, Activation, Dropout, Flatten, Dense,BatchNormalization"
   ]
  },
  {
   "cell_type": "code",
   "execution_count": 41,
   "id": "8a59ac7f-a023-4a91-bb7b-e4fd652f552d",
   "metadata": {},
   "outputs": [],
   "source": [
    "train_glioma = glob.glob('C:/Users/almog/Almog_codes/Anaconda/Code_in_Python/Neural_networks/ANN_Final_Project/Data_to_FP/Training/glioma_tumor/*.jpg')\n",
    "train_menignioma = glob.glob('C:/Users/almog/Almog_codes/Anaconda/Code_in_Python/Neural_networks/ANN_Final_Project/Data_to_FP/Training/meningioma_tumor/*.jpg')\n",
    "train_pituitary = glob.glob('C:/Users/almog/Almog_codes/Anaconda/Code_in_Python/Neural_networks/ANN_Final_Project/Data_to_FP/Training/meningioma_tumor/*.jpg')\n",
    "train_no = glob.glob('C:/Users/almog/Almog_codes/Anaconda/Code_in_Python/Neural_networks/ANN_Final_Project/Data_to_FP/Training/no_tumor/*.jpg')\n",
    "\n",
    "#Test\n",
    "test_glioma = glob.glob('C:/Users/almog/Almog_codes/Anaconda/Code_in_Python/Neural_networks/ANN_Final_Project/Data_to_FP/Testing/glioma_tumor/*.jpg')\n",
    "test_menignioma = glob.glob('C:/Users/almog/Almog_codes/Anaconda/Code_in_Python/Neural_networks/ANN_Final_Project/Data_to_FP/Testing/meningioma_tumor/*.jpg')\n",
    "test_pituitary = glob.glob('C:/Users/almog/Almog_codes/Anaconda/Code_in_Python/Neural_networks/ANN_Final_Project/Data_to_FP/Testing/pituitary_tumor/*.jpg')\n",
    "test_no = glob.glob('C:/Users/almog/Almog_codes/Anaconda/Code_in_Python/Neural_networks/ANN_Final_Project/Data_to_FP/Testing/no_tumor/*.jpg')"
   ]
  },
  {
   "cell_type": "code",
   "execution_count": 8,
   "id": "fa656d91-5a4d-4d3d-948e-87fc6b5ea7ac",
   "metadata": {},
   "outputs": [
    {
     "name": "stdout",
     "output_type": "stream",
     "text": [
      "Number of train_glioma:  826\n",
      "Number of train_menignioma:  822\n",
      "Number of train_pituitary:  822\n",
      "Number of train_no:  395\n",
      "Number of test_glioma:  100\n",
      "Number of test_menignioma:  822\n",
      "Number of test_pituitary:  822\n",
      "Number of test_no:  395\n"
     ]
    }
   ],
   "source": [
    "train_glioma_number = len(train_glioma)\n",
    "train_menignioma_number = len(train_menignioma)\n",
    "train_pituitary_number = len(train_pituitary)\n",
    "train_no_number = len(train_no)\n",
    "\n",
    "test_glioma_number = len(test_glioma)\n",
    "test_menignioma_number = len(test_menignioma)\n",
    "test_pituitary_number = len(test_pituitary)\n",
    "test_no_number = len(test_no)\n",
    "\n",
    "print(\"Number of train_glioma: \",train_glioma_number)\n",
    "print(\"Number of train_menignioma: \",train_menignioma_number)\n",
    "print(\"Number of train_pituitary: \",train_pituitary_number)\n",
    "print(\"Number of train_no: \",train_no_number)\n",
    "print(\"Number of test_glioma: \",test_glioma_number)\n",
    "print(\"Number of test_menignioma: \",train_menignioma_number)\n",
    "print(\"Number of test_pituitary: \",train_pituitary_number)\n",
    "print(\"Number of test_no: \",train_no_number)"
   ]
  },
  {
   "cell_type": "markdown",
   "id": "aff5c9f4-a0ca-47c4-86a7-cbcd1c402f74",
   "metadata": {},
   "source": [
    "### ניסיון לאיזון גודל המחלקות"
   ]
  },
  {
   "cell_type": "code",
   "execution_count": 28,
   "id": "6ca83591-628d-466b-a1fa-f6a049811409",
   "metadata": {},
   "outputs": [],
   "source": [
    "train_data_path = 'C:/Users/almog/Almog_codes/Anaconda/Code_in_Python/Neural_networks/ANN_Final_Project/Data_to_FP/Bdika'\n",
    "\n",
    "filepaths =[]\n",
    "labels = []\n",
    "folds = os.listdir(train_data_path)\n",
    "\n",
    "for fold in folds:\n",
    "    f_path = os.path.join(train_data_path , fold)\n",
    "    filelists = os.listdir(f_path)\n",
    "    \n",
    "    for file in filelists:\n",
    "        filepaths.append(os.path.join(f_path , file))\n",
    "        labels.append(fold)\n",
    "        \n",
    "#Concat data paths with labels\n",
    "Fseries = pd.Series(filepaths , name = 'filepaths')\n",
    "Lseries = pd.Series(labels , name = 'label')\n",
    "train_df = pd.concat([Fseries , Lseries] , axis = 1)\n",
    "\n"
   ]
  },
  {
   "cell_type": "code",
   "execution_count": 29,
   "id": "bb810bf6-c204-4853-9881-8ca38c50a5f4",
   "metadata": {},
   "outputs": [
    {
     "name": "stdout",
     "output_type": "stream",
     "text": [
      "label\n",
      "glioma_tumor        3500\n",
      "meningioma_tumor    3500\n",
      "no_tumor            3500\n",
      "pituitary_tumor     3500\n",
      "Name: count, dtype: int64\n"
     ]
    }
   ],
   "source": [
    "class_counts = train_df['label'].value_counts()\n",
    "print(class_counts)\n",
    "\n"
   ]
  },
  {
   "cell_type": "code",
   "execution_count": null,
   "id": "6e91337c-aaf5-44d5-8daf-2705d664a129",
   "metadata": {},
   "outputs": [],
   "source": [
    "\n"
   ]
  },
  {
   "cell_type": "code",
   "execution_count": 9,
   "id": "50f246f0-3823-4549-943a-d36cce5e0c13",
   "metadata": {},
   "outputs": [
    {
     "name": "stdout",
     "output_type": "stream",
     "text": [
      "Number of glioma:  926\n",
      "Number of menignioma:  937\n",
      "Number of pituitary:  896\n",
      "Number of no_tumor:  500\n"
     ]
    }
   ],
   "source": [
    "# בודק כמה יש מכל מחלקה אימון ומבחן\n",
    "print(\"Number of glioma: \",train_glioma_number + test_glioma_number)\n",
    "print(\"Number of menignioma: \",train_menignioma_number+ test_menignioma_number)\n",
    "print(\"Number of pituitary: \",train_pituitary_number+ test_pituitary_number)\n",
    "print(\"Number of no_tumor: \",train_no_number + test_no_number)\n",
    "\n",
    "\n"
   ]
  },
  {
   "cell_type": "code",
   "execution_count": 66,
   "id": "905ec7fc-0559-4add-a176-a6bbcfb81c47",
   "metadata": {},
   "outputs": [
    {
     "data": {
      "image/png": "[encoded data removed]",
      "text/plain": [
       "<Figure size 1000x600 with 1 Axes>"
      ]
     },
     "metadata": {},
     "output_type": "display_data"
    }
   ],
   "source": [
    "# בודק כמה יש מכל מחלקה אימון ומבחן\n",
    "glioma_ALL = train_glioma_number + test_glioma_number\n",
    "menignioma_ALL =train_menignioma_number+ test_menignioma_number\n",
    "pituitary_ALL =train_pituitary_number+ test_pituitary_number\n",
    "no_number =train_no_number + test_no_number\n",
    "\n",
    "\n",
    "sizes = [glioma_ALL, menignioma_ALL, pituitary_ALL, no_number]\n",
    "labels = ['meningioma_tumor', 'glioma_tumor', 'pituitary_tumor', 'no_tumor']\n",
    "\n",
    "pastel_colors = ['lightblue', 'lightgreen', 'lightcoral', 'lightskyblue']\n",
    "\n",
    "# הגדרת רוחב קטן יותר לעמודות\n",
    "bar_width = 0.5  # רוחב העמודות\n",
    "# קונפיגורציה של הגרף עם רוחב העמודות החדש\n",
    "fig, ax = plt.subplots(figsize=(10, 6))  # שינוי בגודל הגרף לרוחב 10 אינצ' וגובה 6 אינצ'\n",
    "bars = ax.bar(labels, sizes, color=pastel_colors, width=bar_width)\n",
    "\n",
    "# הוספת טקסט לעמודות\n",
    "for bar in bars:\n",
    "    yval = bar.get_height()\n",
    "    ax.text(bar.get_x() + bar_width/2, yval + 5, yval, ha='center', va='bottom')\n",
    "\n",
    "# הגדרת כותרת לגרף\n",
    "ax.set_title('Class distribution before data augmentation')\n",
    "\n",
    "# הצגת הגרף\n",
    "plt.show()\n"
   ]
  },
  {
   "cell_type": "code",
   "execution_count": 2,
   "id": "b62d946e-52a4-47d7-8d1e-fdc71b83601a",
   "metadata": {},
   "outputs": [],
   "source": [
    "# מכולל תמונות\n",
    "import os\n",
    "import cv2\n",
    "import numpy as np\n",
    "import albumentations as A\n",
    "\n",
    "def augment_images(folder_path, num_images):\n",
    "    # Define data augmentation transforms\n",
    "    transform = A.Compose([\n",
    "        A.HueSaturationValue(p=0.5),\n",
    "        A.RandomBrightnessContrast(p=0.5),\n",
    "        A.RandomGamma(p=0.5),\n",
    "        A.Flip(p=0.5),\n",
    "        A.Rotate(p=0.5),\n",
    "        A.MultiplicativeNoise(multiplier=[0.5, 1.5], elementwise=True, per_channel=True, p=0.5),\n",
    "        A.ShiftScaleRotate(shift_limit=0.0625, rotate_limit=45, p=0.5),\n",
    "        A.Transpose(p=0.5),\n",
    "    ])\n",
    "\n",
    "    # Load original images\n",
    "    original_images = [cv2.imread(os.path.join(folder_path, filename))\n",
    "                       for filename in os.listdir(folder_path) if filename.endswith('.jpg')]\n",
    "    original_images = [cv2.resize(img, (256, 256)) for img in original_images]\n",
    "\n",
    "    num_original_images = len(original_images)\n",
    "    print(f\"Number of original images in : {num_original_images}\")\n",
    "\n",
    "    # If there are less than num_images, augment to reach num_images\n",
    "    if num_original_images < num_images:\n",
    "        num_augmentations_needed = num_images - num_original_images\n",
    "        augmented_images = original_images.copy()\n",
    "        for img in original_images:\n",
    "            for _ in range(num_augmentations_needed):\n",
    "                augmented = transform(image=img)['image']\n",
    "                augmented_images.append(augmented)\n",
    "                num_augmentations_needed -= 1\n",
    "                if num_augmentations_needed == 0:\n",
    "                    break\n",
    "\n",
    "        # Save augmented images in the same folder\n",
    "        for i, aug_img in enumerate(augmented_images, start=num_original_images):\n",
    "            save_path = os.path.join(folder_path, f\"{i}.jpg\")\n",
    "            cv2.imwrite(save_path, aug_img)\n",
    "    else:\n",
    "        print(f\"No augmentation needed for {folder_path}, as there are already {num_original_images} images.\")\n",
    "\n",
    "    print(f\"Number of images after augmentation: {len(os.listdir(folder_path))}\")\n",
    "\n"
   ]
  },
  {
   "cell_type": "code",
   "execution_count": 34,
   "id": "c4d2615a-fb80-482c-a8fd-fc3c489f6428",
   "metadata": {},
   "outputs": [],
   "source": [
    "# Specify the path to the parent folder containing subfolders\n",
    "parent_folder_path = 'C:/Users/almog/Almog_codes/Anaconda/Code_in_Python/Neural_networks/ANN_Final_Project/Data_to_FP/bdika'\n",
    "num_images= 2000\n",
    "\n",
    "# Loop through subfolders\n",
    "for subfolder_name in os.listdir(parent_folder_path):    \n",
    "    subfolder_path = os.path.join(parent_folder_path, subfolder_name)\n",
    "    if os.path.isdir(subfolder_path):\n",
    "        # Get the number of files in the subfolder\n",
    "        num_files = len([name for name in os.listdir(subfolder_path) if os.path.isfile(os.path.join(subfolder_path, name))])\n",
    "        if num_files < num_images :\n",
    "            # Now call the augment_images function\n",
    "            augment_images(subfolder_path, num_images)\n"
   ]
  },
  {
   "cell_type": "code",
   "execution_count": 44,
   "id": "692ca9be-c793-496a-ad48-ea714ad737cc",
   "metadata": {},
   "outputs": [],
   "source": [
    "data_path = 'C:/Users/almog/Almog_codes/Anaconda/Code_in_Python/Neural_networks/ANN_Final_Project/Data_to_FP/Bdika'\n",
    "\n",
    "filepaths =[]\n",
    "labels = []\n",
    "folds = os.listdir(train_data_path)\n",
    "\n",
    "for fold in folds:\n",
    "    f_path = os.path.join(train_data_path , fold)\n",
    "    filelists = os.listdir(f_path)\n",
    "    \n",
    "    for file in filelists:\n",
    "        filepaths.append(os.path.join(f_path , file))\n",
    "        labels.append(fold)\n",
    "        \n",
    "#Concat data paths with labels\n",
    "Fseries = pd.Series(filepaths , name = 'filepaths')\n",
    "Lseries = pd.Series(labels , name = 'label')\n",
    "data_df = pd.concat([Fseries , Lseries] , axis = 1)\n"
   ]
  },
  {
   "cell_type": "code",
   "execution_count": null,
   "id": "25603445-70ba-4f5d-b5e1-c39fb9e544d0",
   "metadata": {},
   "outputs": [],
   "source": []
  },
  {
   "cell_type": "code",
   "execution_count": 36,
   "id": "3ce54573-fa83-41b1-a6db-c9c82b61d2cb",
   "metadata": {},
   "outputs": [
    {
     "name": "stdout",
     "output_type": "stream",
     "text": [
      "label\n",
      "glioma_tumor        3500\n",
      "meningioma_tumor    3500\n",
      "no_tumor            3500\n",
      "pituitary_tumor     3500\n",
      "Name: count, dtype: int64\n"
     ]
    }
   ],
   "source": [
    "class_counts = data_df['label'].value_counts()\n",
    "print(class_counts)\n"
   ]
  },
  {
   "cell_type": "code",
   "execution_count": 37,
   "id": "839c3d1d-76ce-4472-8bfc-678d9f56b3c5",
   "metadata": {},
   "outputs": [],
   "source": [
    "meningioma_tumor = data_df['label'].value_counts()['meningioma_tumor']\n",
    "glioma_tumor = data_df['label'].value_counts()['glioma_tumor']\n",
    "pituitary_tumor = data_df['label'].value_counts()['pituitary_tumor']\n",
    "no_tumor = data_df['label'].value_counts()['no_tumor']"
   ]
  },
  {
   "cell_type": "code",
   "execution_count": 39,
   "id": "eaf7d258-ca24-4de0-93db-0fd227f2d914",
   "metadata": {},
   "outputs": [
    {
     "data": {
      "image/png": "[encoded data removed]",
      "text/plain": [
       "<Figure size 1000x600 with 1 Axes>"
      ]
     },
     "metadata": {},
     "output_type": "display_data"
    }
   ],
   "source": [
    "sizes = [meningioma_tumor, glioma_tumor, pituitary_tumor, no_tumor]\n",
    "labels = ['meningioma_tumor', 'glioma_tumor', 'pituitary_tumor', 'no_tumor']\n",
    "\n",
    "pastel_colors = ['lightblue', 'lightgreen', 'lightcoral', 'lightskyblue']\n",
    "\n",
    "# הגדרת רוחב קטן יותר לעמודות\n",
    "bar_width = 0.5  # רוחב העמודות\n",
    "# קונפיגורציה של הגרף עם רוחב העמודות החדש\n",
    "fig, ax = plt.subplots(figsize=(10, 6))  # שינוי בגודל הגרף לרוחב 10 אינצ' וגובה 6 אינצ'\n",
    "bars = ax.bar(labels, sizes, color=pastel_colors, width=bar_width)\n",
    "\n",
    "# הוספת טקסט לעמודות\n",
    "for bar in bars:\n",
    "    yval = bar.get_height()\n",
    "    ax.text(bar.get_x() + bar_width/2, yval + 10, yval, ha='center', va='bottom')\n",
    "\n",
    "# הגדרת כותרת לגרף\n",
    "ax.set_title('Class distribution after data augmentation')\n",
    "\n",
    "# הצגת הגרף\n",
    "plt.show()\n"
   ]
  },
  {
   "cell_type": "code",
   "execution_count": 64,
   "id": "300872b2-bc52-4f4d-8b26-c6364e5108a9",
   "metadata": {},
   "outputs": [
    {
     "name": "stdout",
     "output_type": "stream",
     "text": [
      "Time to evaluate test accuracy and test loss 8.60243319906616 seconds\n"
     ]
    }
   ],
   "source": [
    "print(\"Time to evaluate test accuracy and test loss 8.60243319906616 seconds\")"
   ]
  },
  {
   "cell_type": "code",
   "execution_count": 65,
   "id": "ae7a2ad0-076e-43fa-a7fb-f42910c99da9",
   "metadata": {},
   "outputs": [
    {
     "name": "stdout",
     "output_type": "stream",
     "text": [
      "Time to predict test  23.605389906616 seconds\n"
     ]
    }
   ],
   "source": [
    "print(\"Time to predict test  23.605389906616 seconds\")"
   ]
  },
  {
   "cell_type": "markdown",
   "id": "8e75aa43-f3b0-45c1-b853-09f70a085adb",
   "metadata": {},
   "source": [
    "### המשך הקוד"
   ]
  },
  {
   "cell_type": "code",
   "execution_count": null,
   "id": "930d29d1-09a7-4806-ab58-948f6cc83160",
   "metadata": {},
   "outputs": [],
   "source": [
    "import matplotlib.pyplot as plt\n",
    "from bidi import algorithm as bidi_algorithm\n",
    "\n",
    "# צבעים פסטל וקרים\n",
    "pastel_colors = ['#FFDAB9', '#FFA07A', '#ADD8E6', '#98FB98']\n",
    "\n",
    "# גודל גרפים\n",
    "plt.figure(figsize=(12, 4))\n",
    "\n",
    "# גרף לאימון\n",
    "plt.subplot(1, 3, 1)\n",
    "plt.title(bidi_algorithm.get_display(\"סט אימון - חלוקה לפי מחלקות\"))\n",
    "plt.pie([train_glioma_number, train_menignioma_number, train_pituitary_number, train_no_number],\n",
    "        labels=['Glioma', 'Menignioma', 'Pituitary', 'No tumor'],\n",
    "        colors=pastel_colors, autopct='%.1f%%', explode=(0.025, 0.025, 0.025, 0.025),\n",
    "        startangle=30)\n",
    "\n",
    "# גרף למבחן\n",
    "plt.subplot(1, 3, 2)\n",
    "plt.title(bidi_algorithm.get_display(\"סט מבחן - חלוקה לפי מחלקות\"))\n",
    "plt.pie([test_glioma_number, test_menignioma_number, test_pituitary_number, test_no_number],\n",
    "        labels=['Glioma', 'Menignioma', 'Pituitary', 'No tumor'],\n",
    "        colors=pastel_colors, autopct='%.1f%%', explode=(0.025, 0.025, 0.025, 0.025),\n",
    "        startangle=30)\n",
    "\n",
    "# גרף אימון מול מבחן\n",
    "plt.subplot(1, 3, 3)\n",
    "plt.title(bidi_algorithm.get_display(\"השוואה בין אימון למבחן\"))\n",
    "plt.pie([test_glioma_number + test_menignioma_number + test_pituitary_number + test_no_number,\n",
    "         train_glioma_number + train_menignioma_number + train_pituitary_number + train_no_number],\n",
    "        labels=['Testing', 'Training'],\n",
    "        colors=pastel_colors[:2], autopct='%.1f%%', explode=(0.025, 0.025),\n",
    "        startangle=30)\n",
    "\n",
    "# הצגת הגרפים\n",
    "plt.tight_layout()\n",
    "plt.show()\n"
   ]
  },
  {
   "cell_type": "code",
   "execution_count": 42,
   "id": "a447fc27-334d-4f0f-9b3a-2e53461dff3a",
   "metadata": {},
   "outputs": [],
   "source": [
    "def images_visualization(image, title,a):#a=number of images\n",
    "    plt.figure(figsize=(8,8))#image size\n",
    "    for i in range(a):#number of image\n",
    "        random_image_path = random.choice(image)#random selection\n",
    "        img = mpimg.imread(random_image_path)\n",
    "        plt.subplot(1, a, i+1)\n",
    "        plt.imshow(img, cmap='gray')\n",
    "        plt.axis('off')\n",
    "        plt.title(title)\n",
    "    plt.show()"
   ]
  },
  {
   "cell_type": "code",
   "execution_count": null,
   "id": "7c01c65a-ae5a-4966-b0cb-1b9bc7705a5b",
   "metadata": {},
   "outputs": [],
   "source": []
  },
  {
   "cell_type": "code",
   "execution_count": null,
   "id": "4fd3fcb3-e1ff-4a59-b4ff-40562a212da5",
   "metadata": {},
   "outputs": [],
   "source": [
    "print(\"Train image visualisation\\n\")\n",
    "images_visualization(train_glioma, 'Glioma',3)\n",
    "images_visualization(train_menignioma, 'Menignioma',3)\n",
    "images_visualization(train_pituitary, 'Pituitary',3)\n",
    "images_visualization(train_no, 'No-Tumor',3)"
   ]
  },
  {
   "cell_type": "code",
   "execution_count": null,
   "id": "bcd7b33a-aff7-4f2a-9ce8-b9cc685bdabd",
   "metadata": {},
   "outputs": [],
   "source": [
    "def fiter(image, title,a,m):#a=number of images, m = filter matrix\n",
    "    plt.figure(figsize=(8,8))#image size\n",
    "    for i in range(a):#number of image\n",
    "        random_image_path = random.choice(image)#random selection\n",
    "        img = cv2.imread(random_image_path) # read the image using cv2\n",
    "        laplacian_kernel = np.array(m) # define the Laplacian kernel\n",
    "        laplacian_img = cv2.filter2D(img, -1, laplacian_kernel) # apply the Laplacian filter using cv2.filter2D\n",
    "        plt.subplot(1, a, i+1)\n",
    "        plt.imshow(laplacian_img, cmap='jet') # display the filtered image using plt.imshow and cmap='jet'\n",
    "        plt.axis('off')\n",
    "        plt.title(title)\n",
    "    plt.show()"
   ]
  },
  {
   "cell_type": "code",
   "execution_count": null,
   "id": "3ced3f30-7732-40ce-a4ea-2342b3bc0667",
   "metadata": {},
   "outputs": [],
   "source": [
    "m = [[1, 1, 1], [1, 1, 1], [1, 1, 1]]# Gaussian filter \n",
    "\n",
    "fiter(train_glioma, 'Glioma',3,m)\n",
    "fiter(train_menignioma, 'Menignioma',3,m)\n",
    "fiter(train_pituitary, 'Pituitary',3,m)\n",
    "fiter(train_no, 'No-Tumor',3,m)"
   ]
  },
  {
   "cell_type": "code",
   "execution_count": null,
   "id": "ca7dbb7b-45c5-4335-97c2-0432c7c4279b",
   "metadata": {},
   "outputs": [],
   "source": [
    "#m = [[1, 1, 1], [1, 1, 1], [1, 1, 1]]# Gaussian filter \n",
    "#m = np.array([[-1, -1, -1], [-1, 9, -1], [-1, -1, -1]])\n",
    "m =  [[1, 1, 1], [1, -8, 1], [1, 1, 1]]#laplacian of Gaussian filter \n",
    "\n",
    "fiter(train_glioma, 'Glioma',3,m)\n",
    "fiter(train_menignioma, 'Menignioma',3,m)\n",
    "fiter(train_pituitary, 'Pituitary',3,m)\n",
    "fiter(train_no, 'No-Tumor',3,m)"
   ]
  },
  {
   "cell_type": "code",
   "execution_count": null,
   "id": "c866d6ab-4f58-4709-8d82-ab4dcad21e08",
   "metadata": {},
   "outputs": [],
   "source": [
    "def clahe(image, title,a):#a=number of images\n",
    "    plt.figure(figsize=(8,8))#image size\n",
    "    for i in range(a):#number of image\n",
    "        random_image_path = random.choice(image)#random selection\n",
    "        img = cv2.imread(random_image_path) # read the image using cv2\n",
    "        img_gray = cv2.cvtColor(img, cv2.COLOR_BGR2GRAY) # convert the image to grayscale\n",
    "        clahe = cv2.createCLAHE(clipLimit=5, tileGridSize=(8,8)) # create a CLAHE object with clip limit and tile grid size\n",
    "        clahe_img = clahe.apply(img_gray) # apply CLAHE to the grayscale image\n",
    "        plt.subplot(1, a, i+1)\n",
    "        plt.imshow(clahe_img, cmap='jet') # display the filtered image using plt.imshow and cmap='jet'\n",
    "        plt.axis('off')\n",
    "        plt.title(title)\n",
    "    plt.show()"
   ]
  },
  {
   "cell_type": "code",
   "execution_count": null,
   "id": "0891272b-a67f-4f86-96f4-c2f34d3abe25",
   "metadata": {},
   "outputs": [],
   "source": [
    "clahe(train_glioma, 'Glioma',3)\n",
    "clahe(train_menignioma, 'Menignioma',3)\n",
    "clahe(train_pituitary, 'Pituitary',3)\n",
    "clahe(train_no,'No-Tumor',3)"
   ]
  },
  {
   "cell_type": "markdown",
   "id": "bb40dcb0-6b0a-4e50-b71a-4d9cea4f57df",
   "metadata": {},
   "source": [
    "# Image preprocessing"
   ]
  },
  {
   "cell_type": "code",
   "execution_count": 45,
   "id": "5f011d7c-b94c-4037-bdce-8365f382577f",
   "metadata": {},
   "outputs": [
    {
     "name": "stdout",
     "output_type": "stream",
     "text": [
      "<class 'pandas.core.frame.DataFrame'>\n",
      "RangeIndex: 2870 entries, 0 to 2869\n",
      "Data columns (total 2 columns):\n",
      " #   Column     Non-Null Count  Dtype \n",
      "---  ------     --------------  ----- \n",
      " 0   filepaths  2870 non-null   object\n",
      " 1   label      2870 non-null   object\n",
      "dtypes: object(2)\n",
      "memory usage: 45.0+ KB\n"
     ]
    }
   ],
   "source": [
    "train_data_path = 'C:/Users/almog/Almog_codes/Anaconda/Code_in_Python/Neural_networks/ANN_Final_Project/Data_to_FP/Training'\n",
    "\n",
    "filepaths =[]\n",
    "labels = []\n",
    "\n",
    "folds = os.listdir(train_data_path)\n",
    "\n",
    "for fold in folds:\n",
    "    f_path = os.path.join(train_data_path , fold)\n",
    "    filelists = os.listdir(f_path)\n",
    "    \n",
    "    for file in filelists:\n",
    "        filepaths.append(os.path.join(f_path , file))\n",
    "        labels.append(fold)\n",
    "        \n",
    "#Concat data paths with labels\n",
    "Fseries = pd.Series(filepaths , name = 'filepaths')\n",
    "Lseries = pd.Series(labels , name = 'label')\n",
    "train_df = pd.concat([Fseries , Lseries] , axis = 1)\n",
    "\n",
    "train_df.info()\n"
   ]
  },
  {
   "cell_type": "code",
   "execution_count": null,
   "id": "8a8d58c2-a305-47f1-8e62-ecad1de56c82",
   "metadata": {},
   "outputs": [],
   "source": []
  },
  {
   "cell_type": "code",
   "execution_count": 46,
   "id": "4cfa2064-d196-4805-809a-4fd6044deba3",
   "metadata": {},
   "outputs": [
    {
     "name": "stdout",
     "output_type": "stream",
     "text": [
      "<class 'pandas.core.frame.DataFrame'>\n",
      "RangeIndex: 394 entries, 0 to 393\n",
      "Data columns (total 2 columns):\n",
      " #   Column     Non-Null Count  Dtype \n",
      "---  ------     --------------  ----- \n",
      " 0   filepaths  394 non-null    object\n",
      " 1   label      394 non-null    object\n",
      "dtypes: object(2)\n",
      "memory usage: 6.3+ KB\n"
     ]
    }
   ],
   "source": [
    "test_data_path = 'C:/Users/almog/Almog_codes/Anaconda/Code_in_Python/Neural_networks/ANN_Final_Project/Data_to_FP/Testing'\n",
    "\n",
    "filepaths =[]\n",
    "labels = []\n",
    "\n",
    "folds = os.listdir(test_data_path)\n",
    "\n",
    "for fold in folds:\n",
    "    f_path = os.path.join(test_data_path , fold)\n",
    "    filelists = os.listdir(f_path)\n",
    "    \n",
    "    for file in filelists:\n",
    "        filepaths.append(os.path.join(f_path , file))\n",
    "        labels.append(fold)\n",
    "        \n",
    "#Concat data paths with labels\n",
    "Fseries = pd.Series(filepaths , name = 'filepaths')\n",
    "Lseries = pd.Series(labels , name = 'label')\n",
    "test_df = pd.concat([Fseries , Lseries] , axis = 1)\n",
    "\n",
    "test_df.info()\n"
   ]
  },
  {
   "cell_type": "markdown",
   "id": "edd7a7d8-cb4d-4d19-98b9-e2e2971b68b3",
   "metadata": {
    "jp-MarkdownHeadingCollapsed": true
   },
   "source": [
    "### איחוד הקבצים ודאטה אוגמנטיישן"
   ]
  },
  {
   "cell_type": "code",
   "execution_count": null,
   "id": "8aba2be5-8a29-4deb-8d0b-0106fcf5c86d",
   "metadata": {},
   "outputs": [],
   "source": [
    "# איחוד בניהם\n",
    "combined_df = pd.concat([train_df, test_df], ignore_index=True)\n",
    "combined_df.info()"
   ]
  },
  {
   "cell_type": "code",
   "execution_count": null,
   "id": "ebae4254-3ef7-4d00-af4c-e71b4f252b34",
   "metadata": {},
   "outputs": [],
   "source": [
    "class_counts = combined_df['label'].value_counts()\n",
    "print(class_counts)"
   ]
  },
  {
   "cell_type": "code",
   "execution_count": null,
   "id": "b34eb9d3-d306-4270-9c65-f5b2bb5556b6",
   "metadata": {},
   "outputs": [],
   "source": [
    "# מספרי הדוגמאות לכל מחלקה\n",
    "meningioma_tumor = combined_df['label'].value_counts()['meningioma_tumor']\n",
    "glioma_tumor = combined_df['label'].value_counts()['glioma_tumor']\n",
    "pituitary_tumor = combined_df['label'].value_counts()['pituitary_tumor']\n",
    "no_tumor = combined_df['label'].value_counts()['no_tumor']\n",
    "\n",
    "print(\"Meningioma Tumor:\", meningioma_tumor)\n",
    "print(\"Glioma Tumor:\", glioma_tumor)\n",
    "print(\"Pituitary Tumor:\", pituitary_tumor)\n",
    "print(\"No Tumor:\", no_tumor)\n"
   ]
  },
  {
   "cell_type": "code",
   "execution_count": null,
   "id": "c40c050d-dcfb-4f68-abe3-b6bc8db078ec",
   "metadata": {},
   "outputs": [],
   "source": [
    "import matplotlib.pyplot as plt\n",
    "\n",
    "# יצירת רשימות עבור המחלקות והמספרים שלהן\n",
    "classes = ['meningioma_tumor', 'glioma_tumor', 'pituitary_tumor', 'no_tumor']\n",
    "counts = [meningioma_tumor, glioma_tumor, pituitary_tumor, no_tumor]\n",
    "\n",
    "# יצירת גרף מברים\n",
    "plt.bar(classes, counts)\n",
    "plt.xlabel('מחלקות')\n",
    "plt.ylabel('מספר דוגמאות')\n",
    "plt.title('כמות דוגמאות לכל מחלקה')\n",
    "plt.show()\n"
   ]
  },
  {
   "cell_type": "code",
   "execution_count": null,
   "id": "761c0c8e-a4b5-464f-9196-747d44d14c4d",
   "metadata": {},
   "outputs": [],
   "source": [
    "bdika_data_path = 'C:/Users/almog/Almog_codes/Anaconda/Code_in_Python/Neural_networks/ANN_Final_Project/Data_to_FP/Bdika'\n",
    "\n",
    "filepaths =[]\n",
    "labels = []\n",
    "\n",
    "folds = os.listdir(bdika_data_path)\n",
    "\n",
    "for fold in folds:\n",
    "    f_path = os.path.join(bdika_data_path , fold)\n",
    "    filelists = os.listdir(f_path)\n",
    "    \n",
    "    for file in filelists:\n",
    "        filepaths.append(os.path.join(f_path , file))\n",
    "        labels.append(fold)\n",
    "        \n",
    "#Concat data paths with labels\n",
    "Fseries = pd.Series(filepaths , name = 'filepaths')\n",
    "Lseries = pd.Series(labels , name = 'label')\n",
    "Bdika_df = pd.concat([Fseries , Lseries] , axis = 1)\n",
    "\n",
    "Bdika_df.info()\n",
    "\n",
    "# מספרי הדוגמאות לכל מחלקה\n",
    "meningioma_tumor = Bdika_df['label'].value_counts()['meningioma_tumor']\n",
    "glioma_tumor = Bdika_df['label'].value_counts()['glioma_tumor']\n",
    "pituitary_tumor = Bdika_df['label'].value_counts()['pituitary_tumor']\n",
    "no_tumor = Bdika_df['label'].value_counts()['no_tumor']\n",
    "\n",
    "print(\"Meningioma Tumor:\", meningioma_tumor)\n",
    "print(\"Glioma Tumor:\", glioma_tumor)\n",
    "print(\"Pituitary Tumor:\", pituitary_tumor)\n",
    "print(\"No Tumor:\", no_tumor)\n",
    "\n",
    "import matplotlib.pyplot as plt\n",
    "\n",
    "# יצירת רשימות עבור המחלקות והמספרים שלהן\n",
    "classes = ['meningioma_tumor', 'glioma_tumor', 'pituitary_tumor', 'no_tumor']\n",
    "counts = [meningioma_tumor, glioma_tumor, pituitary_tumor, no_tumor]\n",
    "\n",
    "# יצירת גרף מברים\n",
    "plt.bar(classes, counts)\n",
    "plt.xlabel('מחלקות')\n",
    "plt.ylabel('מספר דוגמאות')\n",
    "plt.title('כמות דוגמאות לכל מחלקה')\n",
    "plt.show()\n"
   ]
  },
  {
   "cell_type": "code",
   "execution_count": null,
   "id": "bd8062d7-8a4e-4008-8875-94d9d1b28026",
   "metadata": {},
   "outputs": [],
   "source": [
    "Bdika_df.head(5)"
   ]
  },
  {
   "cell_type": "code",
   "execution_count": null,
   "id": "8777011b-1ed9-4152-b494-5ecc0e041f2c",
   "metadata": {},
   "outputs": [],
   "source": []
  },
  {
   "cell_type": "markdown",
   "id": "3aa06ca8-b005-4052-a70b-da8944af51a5",
   "metadata": {
    "jp-MarkdownHeadingCollapsed": true
   },
   "source": [
    "### ניסיון לאיזון"
   ]
  },
  {
   "cell_type": "code",
   "execution_count": null,
   "id": "47370965-5b3f-4671-9ca9-e22de2f072e2",
   "metadata": {},
   "outputs": [],
   "source": [
    "import numpy as np\n",
    "import albumentations as A\n",
    "\n",
    "# Define data augmentation transforms\n",
    "transform = A.Compose([\n",
    "    A.HueSaturationValue(p=0.5),\n",
    "    A.RandomBrightnessContrast(p=0.5),\n",
    "    A.RandomGamma(p=0.5),\n",
    "    A.Flip(p=0.5),\n",
    "    A.Rotate(p=0.5),\n",
    "    A.MultiplicativeNoise(multiplier=[0.5, 1.5], elementwise=True, per_channel=True, p=0.5),\n",
    "    A.ShiftScaleRotate(shift_limit=0.0625, rotate_limit=45, p=0.5),\n",
    "    A.Transpose(p=0.5),\n",
    "])\n",
    "\n",
    "\n",
    "\n",
    "import cv2\n",
    "\n",
    "def balance_data(df, max_samples_per_class):\n",
    "    balanced_data = []\n",
    "    num = 1\n",
    "\n",
    "    for _, row in df.iterrows():\n",
    "        num_samples = df['label'].value_counts()[row['label']]\n",
    "        if num_samples <= max_samples_per_class:\n",
    "            num_augmentations = max_samples_per_class - num_samples\n",
    "            for i in range(num_augmentations):\n",
    "                image = cv2.imread(row['filepaths'])  # קריאה של התמונה בעזרת OpenCV\n",
    "                augmented_image = transform(image=image)['image']\n",
    "                balanced_data.append(augmented_image)\n",
    "            # הדפסת מספר התמונות שעברו עבור המחלקה\n",
    "            print(f\"{num} images done frome processed of {num_augmentations} images in class {row['label']}\")\n",
    "            num  = num +1\n",
    "        else:\n",
    "            balanced_data.append(cv2.imread(row['filepaths']))\n",
    "    return pd.DataFrame({'filepaths': balanced_data})\n",
    "\n",
    "max_samples_per_class = 10\n",
    "balanced_train_df = balance_data(Bdika_df, max_samples_per_class)\n",
    "\n",
    "\n"
   ]
  },
  {
   "cell_type": "code",
   "execution_count": null,
   "id": "b2cb9885-a729-4703-9c2d-9c4f27a1d0c8",
   "metadata": {},
   "outputs": [],
   "source": [
    "from sklearn.utils import resample\n",
    "import pandas as pd\n",
    "\n",
    "# Assuming Bdika_df is already defined with 'filepaths' and 'label' columns\n",
    "\n",
    "def balance_data(df, max_samples_per_class):\n",
    "    # Initialize balanced dataframe\n",
    "    balanced_df = pd.DataFrame(columns=df.columns)\n",
    "\n",
    "    # Iterate over each class\n",
    "    for class_label in df['label'].unique():\n",
    "        class_df = df[df['label'] == class_label]\n",
    "        num_samples = len(class_df)\n",
    "        \n",
    "        # If the class has fewer samples than max_samples_per_class, resample it\n",
    "        if num_samples < max_samples_per_class:\n",
    "            oversampled_class = resample(class_df, replace=True, n_samples=max_samples_per_class - num_samples)\n",
    "            class_df = pd.concat([class_df, oversampled_class])\n",
    "        \n",
    "        # Append the balanced class to the balanced dataframe\n",
    "        balanced_df = pd.concat([balanced_df, class_df])\n",
    "    \n",
    "    return balanced_df\n",
    "\n",
    "max_samples_per_class = 10\n",
    "balanced_train_df = balance_data(Bdika_df, max_samples_per_class)\n"
   ]
  },
  {
   "cell_type": "code",
   "execution_count": null,
   "id": "ed10003b-7719-4f05-8eb7-2e2e552179d8",
   "metadata": {},
   "outputs": [],
   "source": [
    "balanced_train_df.info()\n",
    "class_counts = balanced_train_df['label'].value_counts()\n",
    "print(class_counts)"
   ]
  },
  {
   "cell_type": "code",
   "execution_count": null,
   "id": "ac1131ab-75fb-408f-bb5a-d858adf6fb48",
   "metadata": {},
   "outputs": [],
   "source": [
    "balanced_train_df.head(5)"
   ]
  },
  {
   "cell_type": "code",
   "execution_count": null,
   "id": "856a1776-1706-43f4-9675-5502f904fdec",
   "metadata": {},
   "outputs": [],
   "source": [
    "import os\n",
    "import cv2\n",
    "import pandas as pd\n",
    "\n",
    "# Assuming balanced_train_df is the balanced dataframe containing filepaths and labels\n",
    "\n",
    "# Create a directory to save the images divided by classes\n",
    "save_dir = 'balanced_images'\n",
    "os.makedirs(save_dir, exist_ok=True)\n",
    "\n",
    "# Iterate over the unique class labels and create a directory for each class\n",
    "for class_label in balanced_train_df['label'].unique():\n",
    "    class_dir = os.path.join(save_dir, class_label)\n",
    "    os.makedirs(class_dir, exist_ok=True)\n",
    "\n",
    "# Iterate over the dataframe rows and save each image with its label in the corresponding class directory\n",
    "for index, row in balanced_train_df.iterrows():\n",
    "    img = cv2.imread(row['filepaths'])\n",
    "    label = row['label']\n",
    "    save_path = os.path.join(save_dir, label, f\"{label}_{index}.jpg\")\n",
    "    cv2.imwrite(save_path, img)\n"
   ]
  },
  {
   "cell_type": "markdown",
   "id": "48f8cf29-3b21-42f9-bf75-18e13cd7183d",
   "metadata": {},
   "source": [
    "### המשך קוד ישן"
   ]
  },
  {
   "cell_type": "code",
   "execution_count": 48,
   "id": "932d24b4-f5b9-42a1-8884-6d7e5f714664",
   "metadata": {},
   "outputs": [],
   "source": [
    "valid , test = train_test_split(test_df , train_size = 0.5 , shuffle = True , random_state= 42)\n"
   ]
  },
  {
   "cell_type": "code",
   "execution_count": 49,
   "id": "099d8e0b-be96-44c7-bb80-56a28313ef28",
   "metadata": {},
   "outputs": [
    {
     "name": "stdout",
     "output_type": "stream",
     "text": [
      "Found 2870 validated image filenames belonging to 4 classes.\n",
      "Found 197 validated image filenames belonging to 4 classes.\n",
      "Found 197 validated image filenames belonging to 4 classes.\n"
     ]
    }
   ],
   "source": [
    "img_size = (220 ,220)#This defines a variable called img_size that stores a tuple of two integers, 220 and 220. This will be used as the target size for resizing the images.\n",
    "batch_size = 15 # This defines a variable called batch_size that stores an integer, 16. This will be used as the number of images per batch.\n",
    "\n",
    "tr_gen = ImageDataGenerator()#This creates an instance of the ImageDataGenerator class and assigns it to a variable called tr_gen. This will be used to create the train_gen object later. By default, this does not apply any preprocessing or augmentation to the images, but you can pass some arguments to the constructor to customize it.\n",
    "ts_gen= ImageDataGenerator()\n",
    "\n",
    "train_gen = tr_gen.flow_from_dataframe(train_df , x_col = 'filepaths' , y_col = 'label' , target_size = img_size ,\n",
    "                                      class_mode = 'categorical' , color_mode = 'rgb' , shuffle = True , batch_size =batch_size)\n",
    "\n",
    "valid_gen = ts_gen.flow_from_dataframe(valid , x_col = 'filepaths' , y_col = 'label' , target_size = img_size , \n",
    "                                       class_mode = 'categorical',color_mode = 'rgb' , shuffle= True, batch_size = batch_size)\n",
    "\n",
    "test_gen = ts_gen.flow_from_dataframe(test , x_col= 'filepaths' , y_col = 'label' , target_size = img_size , \n",
    "                                      class_mode = 'categorical' , color_mode= 'rgb' , shuffle = False , batch_size = batch_size)"
   ]
  },
  {
   "cell_type": "code",
   "execution_count": 51,
   "id": "44e67301-35fb-494a-8305-6cd0087af590",
   "metadata": {},
   "outputs": [],
   "source": [
    "images , labels = next(train_gen)"
   ]
  },
  {
   "cell_type": "code",
   "execution_count": 60,
   "id": "4be00c83-9d1d-463a-b561-512d285be98f",
   "metadata": {},
   "outputs": [
    {
     "data": {
      "image/png": "[encoded data removed]",
      "text/plain": [
       "<Figure size 640x480 with 1 Axes>"
      ]
     },
     "metadata": {},
     "output_type": "display_data"
    }
   ],
   "source": [
    "import matplotlib.pyplot as plt\n",
    "import numpy as np\n",
    "\n",
    "def display_image(image):\n",
    "    # אם הערכים מחוץ לטווח [0, 1], נבצע המרה לטווח החוקי\n",
    "    if np.max(image) > 1.0:\n",
    "        image = image / 255.0  # להפוך ערכים מ-uint8 ל-floats בטווח [0, 1]\n",
    "    \n",
    "    plt.imshow(image)\n",
    "    plt.axis('off')\n",
    "    plt.show()\n",
    "\n",
    "\n",
    "\n",
    "display_image(images[14])\n"
   ]
  },
  {
   "cell_type": "code",
   "execution_count": null,
   "id": "6f61c725-4fb4-457d-8af2-56917847bb06",
   "metadata": {},
   "outputs": [],
   "source": [
    "base_model.summary()"
   ]
  },
  {
   "cell_type": "code",
   "execution_count": null,
   "id": "76f72fc9-8c75-4ebe-bff7-1ccb7b109bfa",
   "metadata": {},
   "outputs": [],
   "source": [
    "#בניית המודל"
   ]
  },
  {
   "cell_type": "code",
   "execution_count": 67,
   "id": "72df83b1-5c3d-4fd1-a759-33f1588137ee",
   "metadata": {},
   "outputs": [
    {
     "name": "stdout",
     "output_type": "stream",
     "text": [
      "WARNING:tensorflow:From C:\\Users\\almog\\anaconda3\\Lib\\site-packages\\keras\\src\\backend.py:1398: The name tf.executing_eagerly_outside_functions is deprecated. Please use tf.compat.v1.executing_eagerly_outside_functions instead.\n",
      "\n",
      "WARNING:tensorflow:From C:\\Users\\almog\\anaconda3\\Lib\\site-packages\\keras\\src\\layers\\normalization\\batch_normalization.py:979: The name tf.nn.fused_batch_norm is deprecated. Please use tf.compat.v1.nn.fused_batch_norm instead.\n",
      "\n",
      "WARNING:tensorflow:From C:\\Users\\almog\\anaconda3\\Lib\\site-packages\\keras\\src\\engine\\base_layer_utils.py:384: The name tf.executing_eagerly_outside_functions is deprecated. Please use tf.compat.v1.executing_eagerly_outside_functions instead.\n",
      "\n",
      "Model: \"sequential\"\n",
      "_________________________________________________________________\n",
      " Layer (type)                Output Shape              Param #   \n",
      "=================================================================\n",
      " efficientnetb3 (Functional  (None, 1536)              10783535  \n",
      " )                                                               \n",
      "                                                                 \n",
      " batch_normalization (Batch  (None, 1536)              6144      \n",
      " Normalization)                                                  \n",
      "                                                                 \n",
      " dense (Dense)               (None, 256)               393472    \n",
      "                                                                 \n",
      " dropout (Dropout)           (None, 256)               0         \n",
      "                                                                 \n",
      " dense_1 (Dense)             (None, 4)                 1028      \n",
      "                                                                 \n",
      "=================================================================\n",
      "Total params: 11184179 (42.66 MB)\n",
      "Trainable params: 11093804 (42.32 MB)\n",
      "Non-trainable params: 90375 (353.03 KB)\n",
      "_________________________________________________________________\n"
     ]
    }
   ],
   "source": [
    "gen_dict = train_gen.class_indices\n",
    "classes = list(gen_dict.keys())\n",
    "images , labels = next(train_gen)\n",
    "img_shape = (img_size[0] , img_size[1] , 3)\n",
    "num_class = len(classes)\n",
    "\n",
    "base_model = tf.keras.applications.efficientnet.EfficientNetB3(include_top = False , weights = 'imagenet' ,\n",
    "\n",
    "                                                               input_shape = img_shape, pooling= 'max')\n",
    "model = Sequential([\n",
    "    base_model,\n",
    "    BatchNormalization(axis= -1 , momentum= 0.99 , epsilon= 0.001),\n",
    "    Dense(256, kernel_regularizer = regularizers.l2(0.016) , activity_regularizer = regularizers.l1(0.006),\n",
    "         bias_regularizer= regularizers.l1(0.006) , activation = 'relu'),\n",
    "    Dropout(rate= 0.4 , seed = 75),\n",
    "    Dense(num_class , activation = 'softmax')\n",
    "])\n",
    "\n",
    "#optimizer\n",
    "model.compile(Adamax(learning_rate = 0.001) , loss = 'categorical_crossentropy', metrics = ['accuracy'])\n",
    "model.summary()"
   ]
  },
  {
   "cell_type": "code",
   "execution_count": null,
   "id": "8aa47a9d-cfa9-47bd-b88f-6d30723cba16",
   "metadata": {},
   "outputs": [],
   "source": [
    "Epochs = 8\n",
    "\n",
    "history_op1 = model.fit(x= train_gen , epochs = Epochs , verbose = 1 , validation_data = valid_gen ,\n",
    "                   validation_steps = None , shuffle = False)"
   ]
  },
  {
   "cell_type": "code",
   "execution_count": null,
   "id": "556b9feb-6986-4d95-9962-3645cdf85222",
   "metadata": {},
   "outputs": [],
   "source": [
    "history_dict_op1 = history_op1.history\n",
    "val_loss_op1 = history_dict_op1['val_loss']\n",
    "train_loss_op1 = history_dict_op1['loss']\n",
    "val_accuracy_op1 = history_dict_op1['val_accuracy']\n",
    "train_accuracy_op1 = history_dict_op1['accuracy']\n",
    "plt.figure(figsize=(15,6))\n",
    "\n",
    "\n",
    "# Plotting the training and validation loss\n",
    "plt.subplot(1, 2, 1)\n",
    "plt.plot(train_loss_op1, label='Train Loss', color='#8502d1')\n",
    "plt.plot(val_loss_op1, label='Validation Loss', color='darkorange')\n",
    "plt.xlabel('Epochs')\n",
    "plt.ylabel('Loss')\n",
    "plt.legend()\n",
    "plt.title('Loss Evolution')\n",
    "\n",
    "# Plotting the training and validation accuracy\n",
    "plt.subplot(1, 2, 2)\n",
    "plt.plot(train_accuracy_op1, label='Train Accuracy', color='#8502d1')\n",
    "plt.plot(val_accuracy_op1, label='Validation Accuracy', color='darkorange')\n",
    "plt.xlabel('Epochs')\n",
    "plt.ylabel('Accuracy')\n",
    "plt.legend()\n",
    "plt.title('Accuracy Evolution')\n",
    "\n",
    "plt.suptitle('OP_1 - With data augmentation and Including the 7 and 8 convolutional layer', fontsize=16)\n",
    "\n",
    "plt.show()"
   ]
  },
  {
   "cell_type": "markdown",
   "id": "9355196f-faa6-4eec-988d-16f91e77f9b5",
   "metadata": {},
   "source": [
    "# קוד לבורה"
   ]
  },
  {
   "cell_type": "code",
   "execution_count": null,
   "id": "24a77e36-bcb0-4f80-ba78-6236380dc953",
   "metadata": {},
   "outputs": [],
   "source": [
    "# קוד לשלוח לבורה\n",
    "\n",
    "train_data_path = '/kaggle/input/brain-tumor-classification-mri/Training'\n",
    "\n",
    "filepaths =[]\n",
    "labels = []\n",
    "folds = os.listdir(train_data_path)\n",
    "\n",
    "for fold in folds:\n",
    "    f_path = os.path.join(train_data_path , fold)\n",
    "    filelists = os.listdir(f_path)\n",
    "    \n",
    "    for file in filelists:\n",
    "        filepaths.append(os.path.join(f_path , file))\n",
    "        labels.append(fold)\n",
    "        \n",
    "#Concat data paths with labels\n",
    "Fseries = pd.Series(filepaths , name = 'filepaths')\n",
    "Lseries = pd.Series(labels , name = 'label')\n",
    "train_df = pd.concat([Fseries , Lseries] , axis = 1)\n",
    "\n",
    "test_data_path = '/kaggle/input/brain-tumor-classification-mri/Testing'\n",
    "\n",
    "filepaths =[]\n",
    "labels = []\n",
    "\n",
    "folds = os.listdir(test_data_path)\n",
    "\n",
    "for fold in folds:\n",
    "    f_path = os.path.join(test_data_path , fold)\n",
    "    filelists = os.listdir(f_path)\n",
    "    \n",
    "    for file in filelists:\n",
    "        filepaths.append(os.path.join(f_path , file))\n",
    "        labels.append(fold)\n",
    "        \n",
    "#Concat data paths with labels\n",
    "Fseries = pd.Series(filepaths , name = 'filepaths')\n",
    "Lseries = pd.Series(labels , name = 'label')\n",
    "test_df = pd.concat([Fseries , Lseries] , axis = 1)\n",
    "\n",
    "# איחוד בניהם\n",
    "combined_df = pd.concat([train_df, test_df], ignore_index=True)\n",
    "combined_df.info()\n",
    "\n",
    "class_counts = combined_df['label'].value_counts()\n",
    "print(class_counts)\n",
    "\n",
    "# מספרי הדוגמאות לכל מחלקה\n",
    "meningioma_tumor = combined_df['label'].value_counts()['meningioma_tumor']\n",
    "glioma_tumor = combined_df['label'].value_counts()['glioma_tumor']\n",
    "pituitary_tumor = combined_df['label'].value_counts()['pituitary_tumor']\n",
    "no_tumor = combined_df['label'].value_counts()['no_tumor']\n",
    "\n",
    "print(\"Meningioma Tumor:\", meningioma_tumor)\n",
    "print(\"Glioma Tumor:\", glioma_tumor)\n",
    "print(\"Pituitary Tumor:\", pituitary_tumor)\n",
    "print(\"No Tumor:\", no_tumor)"
   ]
  },
  {
   "cell_type": "code",
   "execution_count": null,
   "id": "edd96d2a-0455-4457-8a7f-cc7afea606d0",
   "metadata": {},
   "outputs": [],
   "source": [
    "combined_df = shuffle(combined_df, random_state=101)\n",
    "\n",
    "train_PE , test_PE = train_test_split(combined_df , train_size = 0.2 , shuffle = True , random_state= 42)\n",
    "\n",
    "vlid_PE , train_PE = train_test_split(train_PE , train_size = 0.2 , shuffle = True , random_state= 42)"
   ]
  },
  {
   "cell_type": "code",
   "execution_count": null,
   "id": "7f763d93-8ea3-4f1f-a215-ff0fa262640c",
   "metadata": {},
   "outputs": [],
   "source": [
    "print(len(train_PE))\n",
    "print(len(test_PE))\n",
    "print(len(vlid_PE))\n",
    "\n",
    "total = train_PE + test_PE + valid_PE\n",
    "train_percent = (train_PE / total) * 100\n",
    "test_percent = (test_PE / total) * 100\n",
    "valid_percent = (valid_PE / total) * 100\n",
    "\n",
    "# שרטוט גרף עוגה\n",
    "import matplotlib.pyplot as plt\n",
    "\n",
    "labels = ['Train', 'Test', 'Valid']\n",
    "sizes = [train_percent, test_percent, valid_percent]\n",
    "colors = ['gold', 'yellowgreen', 'lightcoral']\n",
    "\n",
    "plt.pie(sizes, labels=labels, colors=colors, autopct='%1.1f%%', startangle=140)\n",
    "plt.axis('equal')  # Equal aspect ratio ensures that pie is drawn as a circle.\n",
    "plt.title('Percentage of Data')\n",
    "plt.show()"
   ]
  },
  {
   "cell_type": "code",
   "execution_count": null,
   "id": "8778b4b8-70e5-41d8-b4b6-a7a2f5983138",
   "metadata": {},
   "outputs": [],
   "source": [
    "img_size = (220 ,220)#This defines a variable called img_size that stores a tuple of two integers, 220 and 220. This will be used as the target size for resizing the images.\n",
    "batch_size = 15 # This defines a variable called batch_size that stores an integer, 16. This will be used as the number of images per batch.\n",
    "\n",
    "tr_gen = ImageDataGenerator()#This creates an instance of the ImageDataGenerator class and assigns it to a variable called tr_gen. This will be used to create the train_gen object later. By default, this does not apply any preprocessing or augmentation to the images, but you can pass some arguments to the constructor to customize it.\n",
    "ts_gen= ImageDataGenerator()\n",
    "\n",
    "train_gen_PE = tr_gen.flow_from_dataframe(train_PE , x_col = 'filepaths' , y_col = 'label' , target_size = img_size ,\n",
    "                                      class_mode = 'categorical' , color_mode = 'rgb' , shuffle = True , batch_size =batch_size)\n",
    "\n",
    "valid_gen_PE = ts_gen.flow_from_dataframe(vlid_PE , x_col = 'filepaths' , y_col = 'label' , target_size = img_size , \n",
    "                                       class_mode = 'categorical',color_mode = 'rgb' , shuffle= True, batch_size = batch_size)\n",
    "\n",
    "test_gen_PE = ts_gen.flow_from_dataframe(test_PE , x_col= 'filepaths' , y_col = 'label' , target_size = img_size , \n",
    "                                      class_mode = 'categorical' , color_mode= 'rgb' , shuffle = False , batch_size = batch_size)"
   ]
  },
  {
   "cell_type": "code",
   "execution_count": null,
   "id": "648050f2-4183-4e17-b5b1-76c2fb4d6e8d",
   "metadata": {},
   "outputs": [],
   "source": [
    "model_PE = Sequential([\n",
    "    base_model,\n",
    "    BatchNormalization(axis= -1 , momentum= 0.99 , epsilon= 0.001),\n",
    "    Dense(256, kernel_regularizer = regularizers.l2(l= 0.016) , activity_regularizer = regularizers.l1(0.006),\n",
    "         bias_regularizer= regularizers.l1(0.006) , activation = 'relu'),\n",
    "    Dropout(rate= 0.4 , seed = 75),\n",
    "    Dense(num_class , activation = 'softmax')\n",
    "])\n",
    "\n",
    "#optimizer\n",
    "model_PE.compile(Adamax(learning_rate = 0.001) , loss = 'categorical_crossentropy', metrics = ['accuracy'])\n",
    "model_PE.summary()\n",
    "\n",
    "# Model training\n",
    "Epochs = 25\n",
    "start_time = time.time()\n",
    "history_PE = model_PE.fit(x= train_gen_PE , epochs = Epochs , verbose = 1 , validation_data = valid_gen_PE ,\n",
    "                   validation_steps = None , shuffle = False)\n",
    "end_time = time.time()\n",
    "total_time_seconds = end_time - start_time\n",
    "total_time_minutes = total_time_seconds / 60  # Convert seconds to minutes\n",
    "print(\"Total length of process:\", total_time_minutes, \"minutes\")\n",
    "\n"
   ]
  },
  {
   "cell_type": "code",
   "execution_count": null,
   "id": "6e05d5d4-dd1f-4cab-844d-1b2dbd278a34",
   "metadata": {},
   "outputs": [],
   "source": [
    "history_dict_PE = history_PE.history\n",
    "val_loss_PE = history_dict_PE['val_loss']\n",
    "train_loss_PE = history_dict_PE['loss']\n",
    "val_accuracy_PE = history_dict_PE['val_accuracy']\n",
    "train_accuracy_PE = history_dict_PE['accuracy']\n",
    "plt.figure(figsize=(15, 6))\n",
    "\n",
    "# Plotting the training and validation loss\n",
    "plt.subplot(1, 2, 1)\n",
    "plt.plot(train_loss_PE, label='Train Loss', color='#8502d1')\n",
    "plt.plot(val_loss_PE, label='Validation Loss', color='darkorange')\n",
    "plt.xlabel('Epochs')\n",
    "plt.ylabel('Loss')\n",
    "plt.legend()\n",
    "plt.title('Loss Evolution')\n",
    "\n",
    "# Plotting the training and validation accuracy\n",
    "plt.subplot(1, 2, 2)\n",
    "plt.plot(train_accuracy_PE, label='Train Accuracy', color='#8502d1')\n",
    "plt.plot(val_accuracy_PE, label='Validation Accuracy', color='darkorange')\n",
    "plt.xlabel('Epochs')\n",
    "plt.ylabel('Accuracy')\n",
    "plt.legend()\n",
    "plt.title('Accuracy Evolution')\n",
    "\n",
    "plt.suptitle('Original model - EfficientNetB3', fontsize=16)\n",
    "\n",
    "plt.show()\n"
   ]
  },
  {
   "cell_type": "markdown",
   "id": "eac6d4dc-c409-4862-abb3-3ade3fbdcf14",
   "metadata": {},
   "source": [
    "# קוד לקלנר"
   ]
  },
  {
   "cell_type": "code",
   "execution_count": null,
   "id": "864cc2a3-9ae3-493d-8863-7cb6086af156",
   "metadata": {},
   "outputs": [],
   "source": [
    "test_data_path = '/kaggle/input/brain-tumor-classification-mri/Testing'\n",
    "\n",
    "filepaths =[]\n",
    "labels = []\n",
    "\n",
    "folds = os.listdir(test_data_path)\n",
    "\n",
    "for fold in folds:\n",
    "    f_path = os.path.join(test_data_path , fold)\n",
    "    filelists = os.listdir(f_path)\n",
    "    \n",
    "    for file in filelists:\n",
    "        filepaths.append(os.path.join(f_path , file))\n",
    "        labels.append(fold)\n",
    "        \n",
    "#Concat data paths with labels\n",
    "Fseries = pd.Series(filepaths , name = 'filepaths')\n",
    "Lseries = pd.Series(labels , name = 'label')\n",
    "test_df = pd.concat([Fseries , Lseries] , axis = 1)\n",
    "\n",
    "\n",
    "img_size = (224 ,224)#This defines a variable called img_size that stores a tuple of two integers, 220 and 220. This will be used as the target size for resizing the images.\n",
    "batch_size = 32 # This defines a variable called batch_size that stores an integer, 16. This will be used as the number of images per batch.\n",
    "\n",
    "tr_gen = ImageDataGenerator()#This creates an instance of the ImageDataGenerator class and assigns it to a variable called tr_gen. This will be used to create the train_gen object later. By default, this does not apply any preprocessing or augmentation to the images, but you can pass some arguments to the constructor to customize it.\n",
    "ts_gen= ImageDataGenerator()\n",
    "\n",
    "test_gen = ts_gen.flow_from_dataframe(test , x_col= 'filepaths' , y_col = 'label' , target_size = img_size , \n",
    "                                      class_mode = 'categorical' , color_mode= 'rgb' , shuffle = False , batch_size = batch_size)\n"
   ]
  }
 ],
 "metadata": {
  "kernelspec": {
   "display_name": "Python 3 (ipykernel)",
   "language": "python",
   "name": "python3"
  },
  "language_info": {
   "codemirror_mode": {
    "name": "ipython",
    "version": 3
   },
   "file_extension": ".py",
   "mimetype": "text/x-python",
   "name": "python",
   "nbconvert_exporter": "python",
   "pygments_lexer": "ipython3",
   "version": "3.11.8"
  }
 },
 "nbformat": 4,
 "nbformat_minor": 5
}
